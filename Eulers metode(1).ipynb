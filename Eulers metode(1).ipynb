{
 "cells": [
  {
   "cell_type": "markdown",
   "id": "50b50009-724b-438b-827f-98fc1af81a87",
   "metadata": {},
   "source": [
    "# Eulers metode"
   ]
  },
  {
   "cell_type": "markdown",
   "id": "515e7478-21cc-43aa-a7cc-9be59ac05e7d",
   "metadata": {},
   "source": [
    "## Problemstillingen\n",
    "I dette notatet skal vi se på hvordan programere inn Eulers metode for flere dimensjoner. Eulers metode kan brukes til å numerisk løse differensialligninger på formen\n",
    "$$\\vec{x}'(t)=A\\vec{x}(t)+\\vec{f}(t),\\qquad \\vec{x}(0)=\\vec{x_0}$$\n",
    "hvor $\\vec{x}:\\mathbb{R}\\to \\mathbb{R}^n$, $\\vec{f}:\\mathbb{R}\\to \\mathbb{R}^n$ og $\\vec{x_0}\\in \\mathbb{R}^n$ er en konstant.\n",
    "\n",
    "I dette notatet kommer vi til å gå igjennom eksempelet hvor \n",
    "\n",
    "$$A=\\begin{bmatrix}1&2\\\\2&1\\end{bmatrix},\\qquad \\vec{x_0}=\\begin{bmatrix}1\\\\3\\end{bmatrix}, \\qquad \\vec{f}(t)=\\begin{bmatrix}t\\\\1\\end{bmatrix}.$$\n",
    "I tillegg kommer vi til å sette steglengden $\\Delta t= 0.1$. La oss begynne med å definere $A$, $x_0$ og steglengden."
   ]
  },
  {
   "cell_type": "code",
   "execution_count": 1,
   "id": "fce89a7a-b155-49a8-9714-88b301fb47af",
   "metadata": {},
   "outputs": [],
   "source": [
    "import numpy as np # Importerer pakken numpy for å lage matriser og vektorer."
   ]
  },
  {
   "cell_type": "code",
   "execution_count": 2,
   "id": "ca8a353d-4d65-49f0-9163-fac794cde77c",
   "metadata": {},
   "outputs": [
    {
     "name": "stdout",
     "output_type": "stream",
     "text": [
      "Matrisen A er \n",
      " [[1 2]\n",
      " [2 1]]\n",
      "\n",
      "Initialverdien x_0 er [1 3]\n",
      "\n",
      "Steglengden er 0.1.\n"
     ]
    }
   ],
   "source": [
    "# Lager matrisen A\n",
    "A = np.array([[1, 2], [2, 1]])\n",
    "print(f\"Matrisen A er \\n {A}\\n\")\n",
    "\n",
    "# Lager initialverdien x_0\n",
    "x_0 = np.array([1, 3])\n",
    "print(f\"Initialverdien x_0 er {x_0}\\n\")\n",
    "\n",
    "# Setter steglengden delta t\n",
    "step_length = 0.1\n",
    "print(f\"Steglengden er {step_length}.\")"
   ]
  },
  {
   "cell_type": "markdown",
   "id": "1ce63eac-1df2-40d4-b58b-d85ad848b1c1",
   "metadata": {},
   "source": [
    "## Stegene i metoden\n",
    "\n",
    "### Steg 1\n",
    "Eulers metode sier at vi kan finne $\\vec{x}$ ved å gå små steg om gangen i retningen til den deriverte. For eksempel hvis vi vil finne en tilnærment verdi i tiden $t=\\Delta t$ kan vi bruke at om vi setter inn $t=0$ er den deriverte \n",
    "$$\\vec{x}'(0)=A\\vec{x_0}(t)+\\vec{f}(0)=A\\vec{x_0}+\\vec{f}(0).$$\n",
    "Går vi et lite steg med lengde $\\Delta t$ i retningen til den deriverte får vi at\n",
    "$$\\vec{x}(\\Delta t)\\approx \\vec{x_1}= \\vec{x_0}+\\Delta t(A\\vec{x_0}+\\vec{f}(0)).$$\n",
    "Bruker vi verdiene i eksempelet får vi \n",
    "$$\\vec{x}(0.1)\\approx \\vec{x_1}= \\begin{bmatrix}1\\\\3\\end{bmatrix}+0.1\\times\\left(\\begin{bmatrix}1&2\\\\2&1\\end{bmatrix}\\begin{bmatrix}1\\\\3\\end{bmatrix}+\\begin{bmatrix}0\\\\1\\end{bmatrix}\\right)=\\begin{bmatrix}1.7\\\\3.6\\end{bmatrix},$$\n",
    "hvor vi har brukt at $\\vec{f}(0)=\\begin{bmatrix}0\\\\1\\end{bmatrix}$.\n",
    "\n",
    "Vi kan skrive dette inn i Python på følgende måte:"
   ]
  },
  {
   "cell_type": "code",
   "execution_count": 21,
   "id": "be3849fd-9b6a-4dd8-81e3-d44bb11fbacd",
   "metadata": {},
   "outputs": [
    {
     "name": "stdout",
     "output_type": "stream",
     "text": [
      "Det første steget i Eulers metode gir oss at x(0.1) er tilnærmet [1.7 3.6]\n"
     ]
    }
   ],
   "source": [
    "# Utregning av steg 1\n",
    "x_1 = x_0 + step_length*(A@x_0 + np.array([0,1]))\n",
    "\n",
    "print(f\"Det første steget i Eulers metode gir oss at x({step_length}) er tilnærmet {x_1}\")"
   ]
  },
  {
   "cell_type": "markdown",
   "id": "7e27a255-0b81-4f63-ab1e-85405af6cff5",
   "metadata": {},
   "source": [
    "### Steg 2\n",
    "Går vi et lite steg til får vi at \n",
    "$$\\vec{x}(2\\Delta t)\\approx \\vec{x_2}= \\vec{x_1}+\\Delta t(A\\vec{x_1}+\\vec{f}(\\Delta t)).$$\n",
    "Setter vi inn verdiene til eksempelet vårt får vi at\n",
    "$$\\vec{x}(0.2)\\approx \\vec{x_2}= \\begin{bmatrix}1.7\\\\3.6\\end{bmatrix}+0.1\\times\\left(\\begin{bmatrix}1&2\\\\2&1\\end{bmatrix}\\begin{bmatrix}1.7\\\\3.6\\end{bmatrix}+\\begin{bmatrix}0.1\\\\1\\end{bmatrix}\\right)=\\begin{bmatrix}2.6\\\\4.4\\end{bmatrix},$$\n",
    "hvor vi har brukt at $\\vec{f}(0.1)=\\begin{bmatrix}0.1\\\\1\\end{bmatrix}$."
   ]
  },
  {
   "cell_type": "code",
   "execution_count": 22,
   "id": "1c7a1a1b-fa31-4ce5-84fd-140bdbbb1150",
   "metadata": {},
   "outputs": [
    {
     "name": "stdout",
     "output_type": "stream",
     "text": [
      "Det andre steget i Eulers metode gir oss at x(0.2) er tilnærmet [2.6 4.4]\n"
     ]
    }
   ],
   "source": [
    "# Utregning av steg 2\n",
    "x_2 = x_1 + step_length*(A@x_1 + np.array([0.1,1]))\n",
    "\n",
    "print(f\"Det andre steget i Eulers metode gir oss at x({2*step_length}) er tilnærmet {x_2}\")"
   ]
  },
  {
   "cell_type": "markdown",
   "id": "da6290b1-4bed-4ae7-879b-46069973a28c",
   "metadata": {},
   "source": [
    "### Steg $n$\n",
    "Vi kan gjøre så mange små steg som vi vil, og om vi har regnet ut verdien til $\\vec{x}$ i de $(n-1)$ første $t$ verdiene, kan vi finne det $n$-te verdien ved å bruke formelen\n",
    "$$\\vec{x}(n\\Delta t)\\approx \\vec{x_n}= \\vec{x}_{n-1}+\\Delta t(A\\vec{x}_{n-1}+\\vec{f}((n-1)\\Delta t)).$$\n",
    "\n",
    "Setter vi inn i eksempelet vårt får vi at \n",
    "$$\\vec{x}(n \\times 0.1 )\\approx \\vec{x_n}= \\vec{x}_{n-1}+0.1\\times\\left(\\begin{bmatrix}1&2\\\\2&1\\end{bmatrix}\\vec{x}_{n-1}+\\begin{bmatrix}(n-1)0.1\\\\1\\end{bmatrix}\\right).$$\n",
    "\n",
    "Hvis vi skal programmere dette inn kan vi ikke tilate uendelig mange steg. Derfor kommer vi til å velge på forhånd hvor mange steg vi skal ta. La oss si at vi skal ta totalt $n=8$ steg. Vi kommer til å bruke en for-løkke for å gå igjennom alle stegene."
   ]
  },
  {
   "cell_type": "code",
   "execution_count": 29,
   "id": "13c580bd-0d13-4814-bb96-01f592b53583",
   "metadata": {},
   "outputs": [
    {
     "name": "stdout",
     "output_type": "stream",
     "text": [
      "Verdien x(0) er lik [1 3]\n",
      "Verdien x(0.1) er tilnærmet lik [1.7 3.6]\n",
      "Verdien x(0.2) er tilnærmet lik [2.6 4.4]\n",
      "Verdien x(0.3) er tilnærmet lik [3.76 5.46]\n",
      "Verdien x(0.4) er tilnærmet lik [5.258 6.858]\n",
      "Verdien x(0.5) er tilnærmet lik [7.1954 8.6954]\n",
      "Verdien x(0.6) er tilnærmet lik [ 9.70402 11.10402]\n",
      "Verdien x(0.7) er tilnærmet lik [12.955226 14.255226]\n",
      "Verdien x(0.8) er tilnærmet lik [17.1717938 18.3717938]\n"
     ]
    }
   ],
   "source": [
    "number_of_steps = 8 # Vi bestemmer at vi skal gjøre totalt 8 steg\n",
    "\n",
    "x_n = x_0 # Vi begynner med å gjøre 0 steg\n",
    "print(f\"Verdien x(0) er lik {x_n}\")\n",
    "\n",
    "# Gjør n steg med Eulers metode\n",
    "for step in range(number_of_steps):\n",
    "    # Regn ut neste steg\n",
    "    x_n = x_n + step_length*(A@x_n + np.array([step * step_length, 1]))\n",
    "\n",
    "    # Skriv ut hva vi har regnet ut\n",
    "    print(f\"Verdien x({round((step+1)*step_length, 5)}) er tilnærmet lik {x_n}\")"
   ]
  }
 ],
 "metadata": {
  "kernelspec": {
   "display_name": "Python 3 (ipykernel)",
   "language": "python",
   "name": "python3"
  },
  "language_info": {
   "codemirror_mode": {
    "name": "ipython",
    "version": 3
   },
   "file_extension": ".py",
   "mimetype": "text/x-python",
   "name": "python",
   "nbconvert_exporter": "python",
   "pygments_lexer": "ipython3",
   "version": "3.11.6"
  }
 },
 "nbformat": 4,
 "nbformat_minor": 5
}
